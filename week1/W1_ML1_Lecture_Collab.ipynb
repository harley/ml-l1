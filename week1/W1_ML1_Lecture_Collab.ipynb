{
  "nbformat": 4,
  "nbformat_minor": 0,
  "metadata": {
    "colab": {
      "name": "Copy of W1-ML1",
      "version": "0.3.2",
      "provenance": []
    },
    "kernelspec": {
      "name": "python3",
      "display_name": "Python 3"
    }
  },
  "cells": [
    {
      "metadata": {
        "id": "Db9w52ycW4zT",
        "colab_type": "text"
      },
      "cell_type": "markdown",
      "source": [
        "Lesson 1 - Fundamentals\n",
        "====================\n",
        "\n",
        "## Import libraries\n"
      ]
    },
    {
      "metadata": {
        "id": "wb5mxZ0EXmL0",
        "colab_type": "code",
        "colab": {}
      },
      "cell_type": "code",
      "source": [
        "import numpy as np # linear algegra\n",
        "import pandas as pd # work with data\n",
        "import seaborn as sns # visualize data"
      ],
      "execution_count": 0,
      "outputs": []
    },
    {
      "metadata": {
        "id": "88wv0xQQLiQa",
        "colab_type": "code",
        "colab": {}
      },
      "cell_type": "code",
      "source": [
        ""
      ],
      "execution_count": 0,
      "outputs": []
    },
    {
      "metadata": {
        "id": "vTT-n19EYa14",
        "colab_type": "text"
      },
      "cell_type": "markdown",
      "source": [
        "## Basic Python\n",
        "\n",
        "Assume you flip 5 fair coins (i.e. the probability of a coin landing on one side is 0.5). Write a small function which will determine the _estimated probability_ that at most 3 coins will be heads or exactly 1 coin lands on heads."
      ]
    },
    {
      "metadata": {
        "id": "8LkC8O3HYiyW",
        "colab_type": "code",
        "outputId": "86e2d5d9-882e-45dc-fba2-1b9a5adfa8fa",
        "colab": {
          "base_uri": "https://localhost:8080/",
          "height": 34
        }
      },
      "cell_type": "code",
      "source": [
        "def flip_coins():\n",
        "  trials = 10000\n",
        "  counter = 0\n",
        "  for i in range(trials):\n",
        "    each_try = np.random.randint(0, 2, size=5)\n",
        "    if sum(each_try) <= 3 and sum(each_try) > 0:\n",
        "      counter += 1\n",
        "  return counter / trials\n",
        "\n",
        "flip_coins()"
      ],
      "execution_count": 0,
      "outputs": [
        {
          "output_type": "execute_result",
          "data": {
            "text/plain": [
              "0.779"
            ]
          },
          "metadata": {
            "tags": []
          },
          "execution_count": 90
        }
      ]
    },
    {
      "metadata": {
        "id": "iBXKdJQeKaDM",
        "colab_type": "text"
      },
      "cell_type": "markdown",
      "source": [
        "Write a function which takes N dice and returns the estimated probability that the total score is greater than 11 or odd."
      ]
    },
    {
      "metadata": {
        "id": "p6_TfOWOurjN",
        "colab_type": "code",
        "colab": {}
      },
      "cell_type": "code",
      "source": [
        ""
      ],
      "execution_count": 0,
      "outputs": []
    },
    {
      "metadata": {
        "id": "p7omuVAnYmcH",
        "colab_type": "code",
        "outputId": "89808363-cc3f-462d-cff3-ed2d2db36199",
        "colab": {
          "base_uri": "https://localhost:8080/",
          "height": 119
        }
      },
      "cell_type": "code",
      "source": [
        "\n",
        "def dice(n):\n",
        "  trials = 10000\n",
        "  counter = 0\n",
        "  \n",
        "  for i in range(trials):\n",
        "    each_try = np.random.randint(1, 7, size=n)\n",
        "    if i < 5:\n",
        "      print(each_try)\n",
        "    if sum(each_try) > 11 or (sum(each_try) % 2 == 1):\n",
        "      counter += 1\n",
        "  \n",
        "  return counter / trials\n",
        "\n",
        "print(dice(4))"
      ],
      "execution_count": 0,
      "outputs": [
        {
          "output_type": "stream",
          "text": [
            "[4 4 2 3]\n",
            "[2 6 5 4]\n",
            "[1 6 2 3]\n",
            "[4 1 3 4]\n",
            "[5 4 1 3]\n",
            "0.9059\n"
          ],
          "name": "stdout"
        }
      ]
    },
    {
      "metadata": {
        "id": "qtC2vXiFZYPa",
        "colab_type": "text"
      },
      "cell_type": "markdown",
      "source": [
        "## Get started in Machine Learning in 5 steps\n",
        "\n",
        "In this example we will use a dataset from seaborn library. The dataset contains tips data from different customers females and males, smokers and non smokers, from days Thursday to Sunday, dinner or lunch and from different table size.\n",
        "\n",
        "We want to predict how much tip the waiter will earn based on other parameters.\n",
        "\n",
        "### Step 1: Import data"
      ]
    },
    {
      "metadata": {
        "id": "UC5L1hy7aLfB",
        "colab_type": "code",
        "colab": {}
      },
      "cell_type": "code",
      "source": [
        "data = sns.load_dataset('tips')"
      ],
      "execution_count": 0,
      "outputs": []
    },
    {
      "metadata": {
        "id": "AyvrcDJ00skV",
        "colab_type": "text"
      },
      "cell_type": "markdown",
      "source": [
        "#### Overview"
      ]
    },
    {
      "metadata": {
        "id": "UH9RJ4wxwL-N",
        "colab_type": "code",
        "outputId": "1489fa59-a542-4b38-c15a-76891d2ec392",
        "colab": {
          "base_uri": "https://localhost:8080/",
          "height": 204
        }
      },
      "cell_type": "code",
      "source": [
        "data.tail()"
      ],
      "execution_count": 0,
      "outputs": [
        {
          "output_type": "execute_result",
          "data": {
            "text/html": [
              "<div>\n",
              "<style scoped>\n",
              "    .dataframe tbody tr th:only-of-type {\n",
              "        vertical-align: middle;\n",
              "    }\n",
              "\n",
              "    .dataframe tbody tr th {\n",
              "        vertical-align: top;\n",
              "    }\n",
              "\n",
              "    .dataframe thead th {\n",
              "        text-align: right;\n",
              "    }\n",
              "</style>\n",
              "<table border=\"1\" class=\"dataframe\">\n",
              "  <thead>\n",
              "    <tr style=\"text-align: right;\">\n",
              "      <th></th>\n",
              "      <th>total_bill</th>\n",
              "      <th>tip</th>\n",
              "      <th>sex</th>\n",
              "      <th>smoker</th>\n",
              "      <th>day</th>\n",
              "      <th>time</th>\n",
              "      <th>size</th>\n",
              "    </tr>\n",
              "  </thead>\n",
              "  <tbody>\n",
              "    <tr>\n",
              "      <th>239</th>\n",
              "      <td>29.03</td>\n",
              "      <td>5.92</td>\n",
              "      <td>Male</td>\n",
              "      <td>No</td>\n",
              "      <td>Sat</td>\n",
              "      <td>Dinner</td>\n",
              "      <td>3</td>\n",
              "    </tr>\n",
              "    <tr>\n",
              "      <th>240</th>\n",
              "      <td>27.18</td>\n",
              "      <td>2.00</td>\n",
              "      <td>Female</td>\n",
              "      <td>Yes</td>\n",
              "      <td>Sat</td>\n",
              "      <td>Dinner</td>\n",
              "      <td>2</td>\n",
              "    </tr>\n",
              "    <tr>\n",
              "      <th>241</th>\n",
              "      <td>22.67</td>\n",
              "      <td>2.00</td>\n",
              "      <td>Male</td>\n",
              "      <td>Yes</td>\n",
              "      <td>Sat</td>\n",
              "      <td>Dinner</td>\n",
              "      <td>2</td>\n",
              "    </tr>\n",
              "    <tr>\n",
              "      <th>242</th>\n",
              "      <td>17.82</td>\n",
              "      <td>1.75</td>\n",
              "      <td>Male</td>\n",
              "      <td>No</td>\n",
              "      <td>Sat</td>\n",
              "      <td>Dinner</td>\n",
              "      <td>2</td>\n",
              "    </tr>\n",
              "    <tr>\n",
              "      <th>243</th>\n",
              "      <td>18.78</td>\n",
              "      <td>3.00</td>\n",
              "      <td>Female</td>\n",
              "      <td>No</td>\n",
              "      <td>Thur</td>\n",
              "      <td>Dinner</td>\n",
              "      <td>2</td>\n",
              "    </tr>\n",
              "  </tbody>\n",
              "</table>\n",
              "</div>"
            ],
            "text/plain": [
              "     total_bill   tip     sex smoker   day    time  size\n",
              "239       29.03  5.92    Male     No   Sat  Dinner     3\n",
              "240       27.18  2.00  Female    Yes   Sat  Dinner     2\n",
              "241       22.67  2.00    Male    Yes   Sat  Dinner     2\n",
              "242       17.82  1.75    Male     No   Sat  Dinner     2\n",
              "243       18.78  3.00  Female     No  Thur  Dinner     2"
            ]
          },
          "metadata": {
            "tags": []
          },
          "execution_count": 93
        }
      ]
    },
    {
      "metadata": {
        "id": "Tn9SXj2-ag1t",
        "colab_type": "code",
        "outputId": "5876a141-5775-4584-d2ea-45ad3923e497",
        "colab": {
          "base_uri": "https://localhost:8080/",
          "height": 204
        }
      },
      "cell_type": "code",
      "source": [
        "data.head()"
      ],
      "execution_count": 0,
      "outputs": [
        {
          "output_type": "execute_result",
          "data": {
            "text/html": [
              "<div>\n",
              "<style scoped>\n",
              "    .dataframe tbody tr th:only-of-type {\n",
              "        vertical-align: middle;\n",
              "    }\n",
              "\n",
              "    .dataframe tbody tr th {\n",
              "        vertical-align: top;\n",
              "    }\n",
              "\n",
              "    .dataframe thead th {\n",
              "        text-align: right;\n",
              "    }\n",
              "</style>\n",
              "<table border=\"1\" class=\"dataframe\">\n",
              "  <thead>\n",
              "    <tr style=\"text-align: right;\">\n",
              "      <th></th>\n",
              "      <th>total_bill</th>\n",
              "      <th>tip</th>\n",
              "      <th>sex</th>\n",
              "      <th>smoker</th>\n",
              "      <th>day</th>\n",
              "      <th>time</th>\n",
              "      <th>size</th>\n",
              "    </tr>\n",
              "  </thead>\n",
              "  <tbody>\n",
              "    <tr>\n",
              "      <th>0</th>\n",
              "      <td>16.99</td>\n",
              "      <td>1.01</td>\n",
              "      <td>Female</td>\n",
              "      <td>No</td>\n",
              "      <td>Sun</td>\n",
              "      <td>Dinner</td>\n",
              "      <td>2</td>\n",
              "    </tr>\n",
              "    <tr>\n",
              "      <th>1</th>\n",
              "      <td>10.34</td>\n",
              "      <td>1.66</td>\n",
              "      <td>Male</td>\n",
              "      <td>No</td>\n",
              "      <td>Sun</td>\n",
              "      <td>Dinner</td>\n",
              "      <td>3</td>\n",
              "    </tr>\n",
              "    <tr>\n",
              "      <th>2</th>\n",
              "      <td>21.01</td>\n",
              "      <td>3.50</td>\n",
              "      <td>Male</td>\n",
              "      <td>No</td>\n",
              "      <td>Sun</td>\n",
              "      <td>Dinner</td>\n",
              "      <td>3</td>\n",
              "    </tr>\n",
              "    <tr>\n",
              "      <th>3</th>\n",
              "      <td>23.68</td>\n",
              "      <td>3.31</td>\n",
              "      <td>Male</td>\n",
              "      <td>No</td>\n",
              "      <td>Sun</td>\n",
              "      <td>Dinner</td>\n",
              "      <td>2</td>\n",
              "    </tr>\n",
              "    <tr>\n",
              "      <th>4</th>\n",
              "      <td>24.59</td>\n",
              "      <td>3.61</td>\n",
              "      <td>Female</td>\n",
              "      <td>No</td>\n",
              "      <td>Sun</td>\n",
              "      <td>Dinner</td>\n",
              "      <td>4</td>\n",
              "    </tr>\n",
              "  </tbody>\n",
              "</table>\n",
              "</div>"
            ],
            "text/plain": [
              "   total_bill   tip     sex smoker  day    time  size\n",
              "0       16.99  1.01  Female     No  Sun  Dinner     2\n",
              "1       10.34  1.66    Male     No  Sun  Dinner     3\n",
              "2       21.01  3.50    Male     No  Sun  Dinner     3\n",
              "3       23.68  3.31    Male     No  Sun  Dinner     2\n",
              "4       24.59  3.61  Female     No  Sun  Dinner     4"
            ]
          },
          "metadata": {
            "tags": []
          },
          "execution_count": 94
        }
      ]
    },
    {
      "metadata": {
        "id": "4PMltNTrbHGi",
        "colab_type": "code",
        "outputId": "08150ca2-10cc-470a-ec3c-2f8991b260c9",
        "colab": {
          "base_uri": "https://localhost:8080/",
          "height": 80
        }
      },
      "cell_type": "code",
      "source": [
        "data.sample()"
      ],
      "execution_count": 0,
      "outputs": [
        {
          "output_type": "execute_result",
          "data": {
            "text/html": [
              "<div>\n",
              "<style scoped>\n",
              "    .dataframe tbody tr th:only-of-type {\n",
              "        vertical-align: middle;\n",
              "    }\n",
              "\n",
              "    .dataframe tbody tr th {\n",
              "        vertical-align: top;\n",
              "    }\n",
              "\n",
              "    .dataframe thead th {\n",
              "        text-align: right;\n",
              "    }\n",
              "</style>\n",
              "<table border=\"1\" class=\"dataframe\">\n",
              "  <thead>\n",
              "    <tr style=\"text-align: right;\">\n",
              "      <th></th>\n",
              "      <th>total_bill</th>\n",
              "      <th>tip</th>\n",
              "      <th>sex</th>\n",
              "      <th>smoker</th>\n",
              "      <th>day</th>\n",
              "      <th>time</th>\n",
              "      <th>size</th>\n",
              "    </tr>\n",
              "  </thead>\n",
              "  <tbody>\n",
              "    <tr>\n",
              "      <th>45</th>\n",
              "      <td>18.29</td>\n",
              "      <td>3.0</td>\n",
              "      <td>Male</td>\n",
              "      <td>No</td>\n",
              "      <td>Sun</td>\n",
              "      <td>Dinner</td>\n",
              "      <td>2</td>\n",
              "    </tr>\n",
              "  </tbody>\n",
              "</table>\n",
              "</div>"
            ],
            "text/plain": [
              "    total_bill  tip   sex smoker  day    time  size\n",
              "45       18.29  3.0  Male     No  Sun  Dinner     2"
            ]
          },
          "metadata": {
            "tags": []
          },
          "execution_count": 95
        }
      ]
    },
    {
      "metadata": {
        "id": "UovId5xObslj",
        "colab_type": "text"
      },
      "cell_type": "markdown",
      "source": [
        "### Step 2: Data analysis\n",
        "\n",
        "#### What kind of category are there in column 'sex', 'smoker', 'day', 'time'?"
      ]
    },
    {
      "metadata": {
        "id": "ypFqHjgBb2Z2",
        "colab_type": "code",
        "outputId": "f10cf3af-866e-4488-b34f-1b1be7c3fe01",
        "colab": {
          "base_uri": "https://localhost:8080/",
          "height": 221
        }
      },
      "cell_type": "code",
      "source": [
        "data.info()"
      ],
      "execution_count": 0,
      "outputs": [
        {
          "output_type": "stream",
          "text": [
            "<class 'pandas.core.frame.DataFrame'>\n",
            "RangeIndex: 244 entries, 0 to 243\n",
            "Data columns (total 7 columns):\n",
            "total_bill    244 non-null float64\n",
            "tip           244 non-null float64\n",
            "sex           244 non-null category\n",
            "smoker        244 non-null category\n",
            "day           244 non-null category\n",
            "time          244 non-null category\n",
            "size          244 non-null int64\n",
            "dtypes: category(4), float64(2), int64(1)\n",
            "memory usage: 7.2 KB\n"
          ],
          "name": "stdout"
        }
      ]
    },
    {
      "metadata": {
        "id": "ZdzbdTbwcOUJ",
        "colab_type": "code",
        "outputId": "7faa0cbb-f473-4137-e062-89de61597bae",
        "colab": {
          "base_uri": "https://localhost:8080/",
          "height": 297
        }
      },
      "cell_type": "code",
      "source": [
        "data.describe()"
      ],
      "execution_count": 0,
      "outputs": [
        {
          "output_type": "execute_result",
          "data": {
            "text/html": [
              "<div>\n",
              "<style scoped>\n",
              "    .dataframe tbody tr th:only-of-type {\n",
              "        vertical-align: middle;\n",
              "    }\n",
              "\n",
              "    .dataframe tbody tr th {\n",
              "        vertical-align: top;\n",
              "    }\n",
              "\n",
              "    .dataframe thead th {\n",
              "        text-align: right;\n",
              "    }\n",
              "</style>\n",
              "<table border=\"1\" class=\"dataframe\">\n",
              "  <thead>\n",
              "    <tr style=\"text-align: right;\">\n",
              "      <th></th>\n",
              "      <th>total_bill</th>\n",
              "      <th>tip</th>\n",
              "      <th>size</th>\n",
              "    </tr>\n",
              "  </thead>\n",
              "  <tbody>\n",
              "    <tr>\n",
              "      <th>count</th>\n",
              "      <td>244.000000</td>\n",
              "      <td>244.000000</td>\n",
              "      <td>244.000000</td>\n",
              "    </tr>\n",
              "    <tr>\n",
              "      <th>mean</th>\n",
              "      <td>19.785943</td>\n",
              "      <td>2.998279</td>\n",
              "      <td>2.569672</td>\n",
              "    </tr>\n",
              "    <tr>\n",
              "      <th>std</th>\n",
              "      <td>8.902412</td>\n",
              "      <td>1.383638</td>\n",
              "      <td>0.951100</td>\n",
              "    </tr>\n",
              "    <tr>\n",
              "      <th>min</th>\n",
              "      <td>3.070000</td>\n",
              "      <td>1.000000</td>\n",
              "      <td>1.000000</td>\n",
              "    </tr>\n",
              "    <tr>\n",
              "      <th>25%</th>\n",
              "      <td>13.347500</td>\n",
              "      <td>2.000000</td>\n",
              "      <td>2.000000</td>\n",
              "    </tr>\n",
              "    <tr>\n",
              "      <th>50%</th>\n",
              "      <td>17.795000</td>\n",
              "      <td>2.900000</td>\n",
              "      <td>2.000000</td>\n",
              "    </tr>\n",
              "    <tr>\n",
              "      <th>75%</th>\n",
              "      <td>24.127500</td>\n",
              "      <td>3.562500</td>\n",
              "      <td>3.000000</td>\n",
              "    </tr>\n",
              "    <tr>\n",
              "      <th>max</th>\n",
              "      <td>50.810000</td>\n",
              "      <td>10.000000</td>\n",
              "      <td>6.000000</td>\n",
              "    </tr>\n",
              "  </tbody>\n",
              "</table>\n",
              "</div>"
            ],
            "text/plain": [
              "       total_bill         tip        size\n",
              "count  244.000000  244.000000  244.000000\n",
              "mean    19.785943    2.998279    2.569672\n",
              "std      8.902412    1.383638    0.951100\n",
              "min      3.070000    1.000000    1.000000\n",
              "25%     13.347500    2.000000    2.000000\n",
              "50%     17.795000    2.900000    2.000000\n",
              "75%     24.127500    3.562500    3.000000\n",
              "max     50.810000   10.000000    6.000000"
            ]
          },
          "metadata": {
            "tags": []
          },
          "execution_count": 97
        }
      ]
    },
    {
      "metadata": {
        "id": "bxrHPEIjcR5x",
        "colab_type": "code",
        "outputId": "ad44e382-3e98-4ba5-b541-f6de4e5b47af",
        "colab": {
          "base_uri": "https://localhost:8080/",
          "height": 51
        }
      },
      "cell_type": "code",
      "source": [
        "data['sex'].unique()"
      ],
      "execution_count": 0,
      "outputs": [
        {
          "output_type": "execute_result",
          "data": {
            "text/plain": [
              "[Female, Male]\n",
              "Categories (2, object): [Female, Male]"
            ]
          },
          "metadata": {
            "tags": []
          },
          "execution_count": 98
        }
      ]
    },
    {
      "metadata": {
        "id": "eyDSMGc7cWSy",
        "colab_type": "code",
        "outputId": "64f81778-a1e2-4b5a-8f96-58f44ad670d2",
        "colab": {
          "base_uri": "https://localhost:8080/",
          "height": 1088
        }
      },
      "cell_type": "code",
      "source": [
        "data['smoker']"
      ],
      "execution_count": 0,
      "outputs": [
        {
          "output_type": "execute_result",
          "data": {
            "text/plain": [
              "0       No\n",
              "1       No\n",
              "2       No\n",
              "3       No\n",
              "4       No\n",
              "5       No\n",
              "6       No\n",
              "7       No\n",
              "8       No\n",
              "9       No\n",
              "10      No\n",
              "11      No\n",
              "12      No\n",
              "13      No\n",
              "14      No\n",
              "15      No\n",
              "16      No\n",
              "17      No\n",
              "18      No\n",
              "19      No\n",
              "20      No\n",
              "21      No\n",
              "22      No\n",
              "23      No\n",
              "24      No\n",
              "25      No\n",
              "26      No\n",
              "27      No\n",
              "28      No\n",
              "29      No\n",
              "      ... \n",
              "214    Yes\n",
              "215    Yes\n",
              "216    Yes\n",
              "217    Yes\n",
              "218    Yes\n",
              "219    Yes\n",
              "220    Yes\n",
              "221    Yes\n",
              "222    Yes\n",
              "223     No\n",
              "224    Yes\n",
              "225    Yes\n",
              "226    Yes\n",
              "227     No\n",
              "228     No\n",
              "229    Yes\n",
              "230    Yes\n",
              "231    Yes\n",
              "232     No\n",
              "233     No\n",
              "234    Yes\n",
              "235     No\n",
              "236    Yes\n",
              "237    Yes\n",
              "238     No\n",
              "239     No\n",
              "240    Yes\n",
              "241    Yes\n",
              "242     No\n",
              "243     No\n",
              "Name: smoker, Length: 244, dtype: category\n",
              "Categories (2, object): [Yes, No]"
            ]
          },
          "metadata": {
            "tags": []
          },
          "execution_count": 99
        }
      ]
    },
    {
      "metadata": {
        "id": "W_hlOL4ocZ8b",
        "colab_type": "code",
        "outputId": "7d39571e-a5f2-4fbb-b643-1d21d261fc6b",
        "colab": {
          "base_uri": "https://localhost:8080/",
          "height": 51
        }
      },
      "cell_type": "code",
      "source": [
        "data['day'].unique()"
      ],
      "execution_count": 0,
      "outputs": [
        {
          "output_type": "execute_result",
          "data": {
            "text/plain": [
              "[Sun, Sat, Thur, Fri]\n",
              "Categories (4, object): [Sun, Sat, Thur, Fri]"
            ]
          },
          "metadata": {
            "tags": []
          },
          "execution_count": 100
        }
      ]
    },
    {
      "metadata": {
        "id": "uBd4FaEpclHw",
        "colab_type": "text"
      },
      "cell_type": "markdown",
      "source": [
        "#### How many woman/man pay for the dish?"
      ]
    },
    {
      "metadata": {
        "id": "Cj59Y2incsVg",
        "colab_type": "code",
        "outputId": "6a5e5e8d-d4ec-4442-f963-eaef9c6950a0",
        "colab": {
          "base_uri": "https://localhost:8080/",
          "height": 68
        }
      },
      "cell_type": "code",
      "source": [
        "data['sex'].value_counts()"
      ],
      "execution_count": 0,
      "outputs": [
        {
          "output_type": "execute_result",
          "data": {
            "text/plain": [
              "Male      157\n",
              "Female     87\n",
              "Name: sex, dtype: int64"
            ]
          },
          "metadata": {
            "tags": []
          },
          "execution_count": 101
        }
      ]
    },
    {
      "metadata": {
        "id": "4NGFrZuCdvIE",
        "colab_type": "text"
      },
      "cell_type": "markdown",
      "source": [
        "#### Lets find out what is the best day to work – maximum tips (sum and percents)"
      ]
    },
    {
      "metadata": {
        "id": "oJada61OjUku",
        "colab_type": "code",
        "outputId": "48665391-4500-4cf4-a95c-4f0e79d185a5",
        "colab": {
          "base_uri": "https://localhost:8080/",
          "height": 204
        }
      },
      "cell_type": "code",
      "source": [
        "data2 = data.groupby('day').sum()\n",
        "data2['percent'] = data2['tip'] / data2['total_bill'] * 100\n",
        "data2"
      ],
      "execution_count": 0,
      "outputs": [
        {
          "output_type": "execute_result",
          "data": {
            "text/html": [
              "<div>\n",
              "<style scoped>\n",
              "    .dataframe tbody tr th:only-of-type {\n",
              "        vertical-align: middle;\n",
              "    }\n",
              "\n",
              "    .dataframe tbody tr th {\n",
              "        vertical-align: top;\n",
              "    }\n",
              "\n",
              "    .dataframe thead th {\n",
              "        text-align: right;\n",
              "    }\n",
              "</style>\n",
              "<table border=\"1\" class=\"dataframe\">\n",
              "  <thead>\n",
              "    <tr style=\"text-align: right;\">\n",
              "      <th></th>\n",
              "      <th>total_bill</th>\n",
              "      <th>tip</th>\n",
              "      <th>size</th>\n",
              "      <th>percent</th>\n",
              "    </tr>\n",
              "    <tr>\n",
              "      <th>day</th>\n",
              "      <th></th>\n",
              "      <th></th>\n",
              "      <th></th>\n",
              "      <th></th>\n",
              "    </tr>\n",
              "  </thead>\n",
              "  <tbody>\n",
              "    <tr>\n",
              "      <th>Thur</th>\n",
              "      <td>1096.33</td>\n",
              "      <td>171.83</td>\n",
              "      <td>152</td>\n",
              "      <td>15.673201</td>\n",
              "    </tr>\n",
              "    <tr>\n",
              "      <th>Fri</th>\n",
              "      <td>325.88</td>\n",
              "      <td>51.96</td>\n",
              "      <td>40</td>\n",
              "      <td>15.944519</td>\n",
              "    </tr>\n",
              "    <tr>\n",
              "      <th>Sat</th>\n",
              "      <td>1778.40</td>\n",
              "      <td>260.40</td>\n",
              "      <td>219</td>\n",
              "      <td>14.642375</td>\n",
              "    </tr>\n",
              "    <tr>\n",
              "      <th>Sun</th>\n",
              "      <td>1627.16</td>\n",
              "      <td>247.39</td>\n",
              "      <td>216</td>\n",
              "      <td>15.203791</td>\n",
              "    </tr>\n",
              "  </tbody>\n",
              "</table>\n",
              "</div>"
            ],
            "text/plain": [
              "      total_bill     tip  size    percent\n",
              "day                                      \n",
              "Thur     1096.33  171.83   152  15.673201\n",
              "Fri       325.88   51.96    40  15.944519\n",
              "Sat      1778.40  260.40   219  14.642375\n",
              "Sun      1627.16  247.39   216  15.203791"
            ]
          },
          "metadata": {
            "tags": []
          },
          "execution_count": 102
        }
      ]
    },
    {
      "metadata": {
        "id": "w3BJQgNckX9g",
        "colab_type": "text"
      },
      "cell_type": "markdown",
      "source": [
        "#### Who eats more (and tips more)? smokers or non smokers?"
      ]
    },
    {
      "metadata": {
        "id": "o2buTmbhkW--",
        "colab_type": "code",
        "outputId": "3b6cad5c-a1bf-4ad4-b2e4-073ea93172a7",
        "colab": {
          "base_uri": "https://localhost:8080/",
          "height": 142
        }
      },
      "cell_type": "code",
      "source": [
        "data3 = data.groupby('smoker').sum()\n",
        "data3['percent'] = data3['tip'] / data3['total_bill'] * 100\n",
        "data3"
      ],
      "execution_count": 0,
      "outputs": [
        {
          "output_type": "execute_result",
          "data": {
            "text/html": [
              "<div>\n",
              "<style scoped>\n",
              "    .dataframe tbody tr th:only-of-type {\n",
              "        vertical-align: middle;\n",
              "    }\n",
              "\n",
              "    .dataframe tbody tr th {\n",
              "        vertical-align: top;\n",
              "    }\n",
              "\n",
              "    .dataframe thead th {\n",
              "        text-align: right;\n",
              "    }\n",
              "</style>\n",
              "<table border=\"1\" class=\"dataframe\">\n",
              "  <thead>\n",
              "    <tr style=\"text-align: right;\">\n",
              "      <th></th>\n",
              "      <th>total_bill</th>\n",
              "      <th>tip</th>\n",
              "      <th>size</th>\n",
              "      <th>percent</th>\n",
              "    </tr>\n",
              "    <tr>\n",
              "      <th>smoker</th>\n",
              "      <th></th>\n",
              "      <th></th>\n",
              "      <th></th>\n",
              "      <th></th>\n",
              "    </tr>\n",
              "  </thead>\n",
              "  <tbody>\n",
              "    <tr>\n",
              "      <th>Yes</th>\n",
              "      <td>1930.34</td>\n",
              "      <td>279.81</td>\n",
              "      <td>224</td>\n",
              "      <td>14.495374</td>\n",
              "    </tr>\n",
              "    <tr>\n",
              "      <th>No</th>\n",
              "      <td>2897.43</td>\n",
              "      <td>451.77</td>\n",
              "      <td>403</td>\n",
              "      <td>15.592094</td>\n",
              "    </tr>\n",
              "  </tbody>\n",
              "</table>\n",
              "</div>"
            ],
            "text/plain": [
              "        total_bill     tip  size    percent\n",
              "smoker                                     \n",
              "Yes        1930.34  279.81   224  14.495374\n",
              "No         2897.43  451.77   403  15.592094"
            ]
          },
          "metadata": {
            "tags": []
          },
          "execution_count": 103
        }
      ]
    },
    {
      "metadata": {
        "id": "mz-lF_-NlhbG",
        "colab_type": "text"
      },
      "cell_type": "markdown",
      "source": [
        "### Step 3: Data vizualization\n",
        "\n",
        "Let's draw some seaborn graph\n",
        "\n",
        "#### Tables per day"
      ]
    },
    {
      "metadata": {
        "id": "SnUOSuN8llXW",
        "colab_type": "code",
        "outputId": "73aaf460-e04d-4c70-f62f-8c18a1a3c8a9",
        "colab": {
          "base_uri": "https://localhost:8080/",
          "height": 412
        }
      },
      "cell_type": "code",
      "source": [
        "sns.countplot(x='day', data=data)"
      ],
      "execution_count": 0,
      "outputs": [
        {
          "output_type": "stream",
          "text": [
            "/usr/local/lib/python3.6/dist-packages/seaborn/categorical.py:1428: FutureWarning: remove_na is deprecated and is a private function. Do not use.\n",
            "  stat_data = remove_na(group_data)\n"
          ],
          "name": "stderr"
        },
        {
          "output_type": "execute_result",
          "data": {
            "text/plain": [
              "<matplotlib.axes._subplots.AxesSubplot at 0x7f03377b4cf8>"
            ]
          },
          "metadata": {
            "tags": []
          },
          "execution_count": 104
        },
        {
          "output_type": "display_data",
          "data": {
            "image/png": "[encoded data removed]",
            "text/plain": [
              "<matplotlib.figure.Figure at 0x7f03378c2208>"
            ]
          },
          "metadata": {
            "tags": []
          }
        }
      ]
    },
    {
      "metadata": {
        "id": "dPWLLBlDmVhO",
        "colab_type": "text"
      },
      "cell_type": "markdown",
      "source": [
        "#### Tables per day per gender\n"
      ]
    },
    {
      "metadata": {
        "id": "O6V6Kxs6ma7n",
        "colab_type": "code",
        "outputId": "6af3047b-1c75-463a-f6f3-c5b66fb05a98",
        "colab": {
          "base_uri": "https://localhost:8080/",
          "height": 412
        }
      },
      "cell_type": "code",
      "source": [
        "sns.countplot(x='day', data=data, hue='sex')"
      ],
      "execution_count": 0,
      "outputs": [
        {
          "output_type": "stream",
          "text": [
            "/usr/local/lib/python3.6/dist-packages/seaborn/categorical.py:1468: FutureWarning: remove_na is deprecated and is a private function. Do not use.\n",
            "  stat_data = remove_na(group_data[hue_mask])\n"
          ],
          "name": "stderr"
        },
        {
          "output_type": "execute_result",
          "data": {
            "text/plain": [
              "<matplotlib.axes._subplots.AxesSubplot at 0x7f03377b4518>"
            ]
          },
          "metadata": {
            "tags": []
          },
          "execution_count": 105
        },
        {
          "output_type": "display_data",
          "data": {
            "image/png": "[encoded data removed]",
            "text/plain": [
              "<matplotlib.figure.Figure at 0x7f0337862470>"
            ]
          },
          "metadata": {
            "tags": []
          }
        }
      ]
    },
    {
      "metadata": {
        "id": "I6dTzzkgnaJ4",
        "colab_type": "text"
      },
      "cell_type": "markdown",
      "source": [
        "#### Table lunch vs dinner"
      ]
    },
    {
      "metadata": {
        "id": "ZjUxgJM_ndqf",
        "colab_type": "code",
        "outputId": "7416084d-c7fc-45e2-db08-2908c775812c",
        "colab": {
          "base_uri": "https://localhost:8080/",
          "height": 412
        }
      },
      "cell_type": "code",
      "source": [
        "sns.countplot(x='time', data=data, hue='day')"
      ],
      "execution_count": 0,
      "outputs": [
        {
          "output_type": "stream",
          "text": [
            "/usr/local/lib/python3.6/dist-packages/seaborn/categorical.py:1468: FutureWarning: remove_na is deprecated and is a private function. Do not use.\n",
            "  stat_data = remove_na(group_data[hue_mask])\n"
          ],
          "name": "stderr"
        },
        {
          "output_type": "execute_result",
          "data": {
            "text/plain": [
              "<matplotlib.axes._subplots.AxesSubplot at 0x7f033779a128>"
            ]
          },
          "metadata": {
            "tags": []
          },
          "execution_count": 106
        },
        {
          "output_type": "display_data",
          "data": {
            "image/png": "[encoded data removed]",
            "text/plain": [
              "<matplotlib.figure.Figure at 0x7f0337898e10>"
            ]
          },
          "metadata": {
            "tags": []
          }
        }
      ]
    },
    {
      "metadata": {
        "id": "RbRQ3ph_nzIW",
        "colab_type": "text"
      },
      "cell_type": "markdown",
      "source": [
        "### Step 4: Transform and clean the data\n",
        "\n",
        "Before we start building our model, we need to convert all the text values into numbers. \n",
        "\n",
        "#### Convert sex and smoker to values"
      ]
    },
    {
      "metadata": {
        "id": "gsKW5O-sn1HB",
        "colab_type": "code",
        "outputId": "ec503159-b107-4760-b0ef-5118d2d73d4d",
        "colab": {
          "base_uri": "https://localhost:8080/",
          "height": 1969
        }
      },
      "cell_type": "code",
      "source": [
        "input_data = data.replace({'sex': {'Male': 0, 'Female': 1}, 'smoker': {'No': 0, 'Yes': 1}, 'time': {'Lunch': 0, 'Dinner': 1}})\n",
        "input_data"
      ],
      "execution_count": 0,
      "outputs": [
        {
          "output_type": "execute_result",
          "data": {
            "text/html": [
              "<div>\n",
              "<style scoped>\n",
              "    .dataframe tbody tr th:only-of-type {\n",
              "        vertical-align: middle;\n",
              "    }\n",
              "\n",
              "    .dataframe tbody tr th {\n",
              "        vertical-align: top;\n",
              "    }\n",
              "\n",
              "    .dataframe thead th {\n",
              "        text-align: right;\n",
              "    }\n",
              "</style>\n",
              "<table border=\"1\" class=\"dataframe\">\n",
              "  <thead>\n",
              "    <tr style=\"text-align: right;\">\n",
              "      <th></th>\n",
              "      <th>total_bill</th>\n",
              "      <th>tip</th>\n",
              "      <th>sex</th>\n",
              "      <th>smoker</th>\n",
              "      <th>day</th>\n",
              "      <th>time</th>\n",
              "      <th>size</th>\n",
              "    </tr>\n",
              "  </thead>\n",
              "  <tbody>\n",
              "    <tr>\n",
              "      <th>0</th>\n",
              "      <td>16.99</td>\n",
              "      <td>1.01</td>\n",
              "      <td>1</td>\n",
              "      <td>0</td>\n",
              "      <td>Sun</td>\n",
              "      <td>1</td>\n",
              "      <td>2</td>\n",
              "    </tr>\n",
              "    <tr>\n",
              "      <th>1</th>\n",
              "      <td>10.34</td>\n",
              "      <td>1.66</td>\n",
              "      <td>0</td>\n",
              "      <td>0</td>\n",
              "      <td>Sun</td>\n",
              "      <td>1</td>\n",
              "      <td>3</td>\n",
              "    </tr>\n",
              "    <tr>\n",
              "      <th>2</th>\n",
              "      <td>21.01</td>\n",
              "      <td>3.50</td>\n",
              "      <td>0</td>\n",
              "      <td>0</td>\n",
              "      <td>Sun</td>\n",
              "      <td>1</td>\n",
              "      <td>3</td>\n",
              "    </tr>\n",
              "    <tr>\n",
              "      <th>3</th>\n",
              "      <td>23.68</td>\n",
              "      <td>3.31</td>\n",
              "      <td>0</td>\n",
              "      <td>0</td>\n",
              "      <td>Sun</td>\n",
              "      <td>1</td>\n",
              "      <td>2</td>\n",
              "    </tr>\n",
              "    <tr>\n",
              "      <th>4</th>\n",
              "      <td>24.59</td>\n",
              "      <td>3.61</td>\n",
              "      <td>1</td>\n",
              "      <td>0</td>\n",
              "      <td>Sun</td>\n",
              "      <td>1</td>\n",
              "      <td>4</td>\n",
              "    </tr>\n",
              "    <tr>\n",
              "      <th>5</th>\n",
              "      <td>25.29</td>\n",
              "      <td>4.71</td>\n",
              "      <td>0</td>\n",
              "      <td>0</td>\n",
              "      <td>Sun</td>\n",
              "      <td>1</td>\n",
              "      <td>4</td>\n",
              "    </tr>\n",
              "    <tr>\n",
              "      <th>6</th>\n",
              "      <td>8.77</td>\n",
              "      <td>2.00</td>\n",
              "      <td>0</td>\n",
              "      <td>0</td>\n",
              "      <td>Sun</td>\n",
              "      <td>1</td>\n",
              "      <td>2</td>\n",
              "    </tr>\n",
              "    <tr>\n",
              "      <th>7</th>\n",
              "      <td>26.88</td>\n",
              "      <td>3.12</td>\n",
              "      <td>0</td>\n",
              "      <td>0</td>\n",
              "      <td>Sun</td>\n",
              "      <td>1</td>\n",
              "      <td>4</td>\n",
              "    </tr>\n",
              "    <tr>\n",
              "      <th>8</th>\n",
              "      <td>15.04</td>\n",
              "      <td>1.96</td>\n",
              "      <td>0</td>\n",
              "      <td>0</td>\n",
              "      <td>Sun</td>\n",
              "      <td>1</td>\n",
              "      <td>2</td>\n",
              "    </tr>\n",
              "    <tr>\n",
              "      <th>9</th>\n",
              "      <td>14.78</td>\n",
              "      <td>3.23</td>\n",
              "      <td>0</td>\n",
              "      <td>0</td>\n",
              "      <td>Sun</td>\n",
              "      <td>1</td>\n",
              "      <td>2</td>\n",
              "    </tr>\n",
              "    <tr>\n",
              "      <th>10</th>\n",
              "      <td>10.27</td>\n",
              "      <td>1.71</td>\n",
              "      <td>0</td>\n",
              "      <td>0</td>\n",
              "      <td>Sun</td>\n",
              "      <td>1</td>\n",
              "      <td>2</td>\n",
              "    </tr>\n",
              "    <tr>\n",
              "      <th>11</th>\n",
              "      <td>35.26</td>\n",
              "      <td>5.00</td>\n",
              "      <td>1</td>\n",
              "      <td>0</td>\n",
              "      <td>Sun</td>\n",
              "      <td>1</td>\n",
              "      <td>4</td>\n",
              "    </tr>\n",
              "    <tr>\n",
              "      <th>12</th>\n",
              "      <td>15.42</td>\n",
              "      <td>1.57</td>\n",
              "      <td>0</td>\n",
              "      <td>0</td>\n",
              "      <td>Sun</td>\n",
              "      <td>1</td>\n",
              "      <td>2</td>\n",
              "    </tr>\n",
              "    <tr>\n",
              "      <th>13</th>\n",
              "      <td>18.43</td>\n",
              "      <td>3.00</td>\n",
              "      <td>0</td>\n",
              "      <td>0</td>\n",
              "      <td>Sun</td>\n",
              "      <td>1</td>\n",
              "      <td>4</td>\n",
              "    </tr>\n",
              "    <tr>\n",
              "      <th>14</th>\n",
              "      <td>14.83</td>\n",
              "      <td>3.02</td>\n",
              "      <td>1</td>\n",
              "      <td>0</td>\n",
              "      <td>Sun</td>\n",
              "      <td>1</td>\n",
              "      <td>2</td>\n",
              "    </tr>\n",
              "    <tr>\n",
              "      <th>15</th>\n",
              "      <td>21.58</td>\n",
              "      <td>3.92</td>\n",
              "      <td>0</td>\n",
              "      <td>0</td>\n",
              "      <td>Sun</td>\n",
              "      <td>1</td>\n",
              "      <td>2</td>\n",
              "    </tr>\n",
              "    <tr>\n",
              "      <th>16</th>\n",
              "      <td>10.33</td>\n",
              "      <td>1.67</td>\n",
              "      <td>1</td>\n",
              "      <td>0</td>\n",
              "      <td>Sun</td>\n",
              "      <td>1</td>\n",
              "      <td>3</td>\n",
              "    </tr>\n",
              "    <tr>\n",
              "      <th>17</th>\n",
              "      <td>16.29</td>\n",
              "      <td>3.71</td>\n",
              "      <td>0</td>\n",
              "      <td>0</td>\n",
              "      <td>Sun</td>\n",
              "      <td>1</td>\n",
              "      <td>3</td>\n",
              "    </tr>\n",
              "    <tr>\n",
              "      <th>18</th>\n",
              "      <td>16.97</td>\n",
              "      <td>3.50</td>\n",
              "      <td>1</td>\n",
              "      <td>0</td>\n",
              "      <td>Sun</td>\n",
              "      <td>1</td>\n",
              "      <td>3</td>\n",
              "    </tr>\n",
              "    <tr>\n",
              "      <th>19</th>\n",
              "      <td>20.65</td>\n",
              "      <td>3.35</td>\n",
              "      <td>0</td>\n",
              "      <td>0</td>\n",
              "      <td>Sat</td>\n",
              "      <td>1</td>\n",
              "      <td>3</td>\n",
              "    </tr>\n",
              "    <tr>\n",
              "      <th>20</th>\n",
              "      <td>17.92</td>\n",
              "      <td>4.08</td>\n",
              "      <td>0</td>\n",
              "      <td>0</td>\n",
              "      <td>Sat</td>\n",
              "      <td>1</td>\n",
              "      <td>2</td>\n",
              "    </tr>\n",
              "    <tr>\n",
              "      <th>21</th>\n",
              "      <td>20.29</td>\n",
              "      <td>2.75</td>\n",
              "      <td>1</td>\n",
              "      <td>0</td>\n",
              "      <td>Sat</td>\n",
              "      <td>1</td>\n",
              "      <td>2</td>\n",
              "    </tr>\n",
              "    <tr>\n",
              "      <th>22</th>\n",
              "      <td>15.77</td>\n",
              "      <td>2.23</td>\n",
              "      <td>1</td>\n",
              "      <td>0</td>\n",
              "      <td>Sat</td>\n",
              "      <td>1</td>\n",
              "      <td>2</td>\n",
              "    </tr>\n",
              "    <tr>\n",
              "      <th>23</th>\n",
              "      <td>39.42</td>\n",
              "      <td>7.58</td>\n",
              "      <td>0</td>\n",
              "      <td>0</td>\n",
              "      <td>Sat</td>\n",
              "      <td>1</td>\n",
              "      <td>4</td>\n",
              "    </tr>\n",
              "    <tr>\n",
              "      <th>24</th>\n",
              "      <td>19.82</td>\n",
              "      <td>3.18</td>\n",
              "      <td>0</td>\n",
              "      <td>0</td>\n",
              "      <td>Sat</td>\n",
              "      <td>1</td>\n",
              "      <td>2</td>\n",
              "    </tr>\n",
              "    <tr>\n",
              "      <th>25</th>\n",
              "      <td>17.81</td>\n",
              "      <td>2.34</td>\n",
              "      <td>0</td>\n",
              "      <td>0</td>\n",
              "      <td>Sat</td>\n",
              "      <td>1</td>\n",
              "      <td>4</td>\n",
              "    </tr>\n",
              "    <tr>\n",
              "      <th>26</th>\n",
              "      <td>13.37</td>\n",
              "      <td>2.00</td>\n",
              "      <td>0</td>\n",
              "      <td>0</td>\n",
              "      <td>Sat</td>\n",
              "      <td>1</td>\n",
              "      <td>2</td>\n",
              "    </tr>\n",
              "    <tr>\n",
              "      <th>27</th>\n",
              "      <td>12.69</td>\n",
              "      <td>2.00</td>\n",
              "      <td>0</td>\n",
              "      <td>0</td>\n",
              "      <td>Sat</td>\n",
              "      <td>1</td>\n",
              "      <td>2</td>\n",
              "    </tr>\n",
              "    <tr>\n",
              "      <th>28</th>\n",
              "      <td>21.70</td>\n",
              "      <td>4.30</td>\n",
              "      <td>0</td>\n",
              "      <td>0</td>\n",
              "      <td>Sat</td>\n",
              "      <td>1</td>\n",
              "      <td>2</td>\n",
              "    </tr>\n",
              "    <tr>\n",
              "      <th>29</th>\n",
              "      <td>19.65</td>\n",
              "      <td>3.00</td>\n",
              "      <td>1</td>\n",
              "      <td>0</td>\n",
              "      <td>Sat</td>\n",
              "      <td>1</td>\n",
              "      <td>2</td>\n",
              "    </tr>\n",
              "    <tr>\n",
              "      <th>...</th>\n",
              "      <td>...</td>\n",
              "      <td>...</td>\n",
              "      <td>...</td>\n",
              "      <td>...</td>\n",
              "      <td>...</td>\n",
              "      <td>...</td>\n",
              "      <td>...</td>\n",
              "    </tr>\n",
              "    <tr>\n",
              "      <th>214</th>\n",
              "      <td>28.17</td>\n",
              "      <td>6.50</td>\n",
              "      <td>1</td>\n",
              "      <td>1</td>\n",
              "      <td>Sat</td>\n",
              "      <td>1</td>\n",
              "      <td>3</td>\n",
              "    </tr>\n",
              "    <tr>\n",
              "      <th>215</th>\n",
              "      <td>12.90</td>\n",
              "      <td>1.10</td>\n",
              "      <td>1</td>\n",
              "      <td>1</td>\n",
              "      <td>Sat</td>\n",
              "      <td>1</td>\n",
              "      <td>2</td>\n",
              "    </tr>\n",
              "    <tr>\n",
              "      <th>216</th>\n",
              "      <td>28.15</td>\n",
              "      <td>3.00</td>\n",
              "      <td>0</td>\n",
              "      <td>1</td>\n",
              "      <td>Sat</td>\n",
              "      <td>1</td>\n",
              "      <td>5</td>\n",
              "    </tr>\n",
              "    <tr>\n",
              "      <th>217</th>\n",
              "      <td>11.59</td>\n",
              "      <td>1.50</td>\n",
              "      <td>0</td>\n",
              "      <td>1</td>\n",
              "      <td>Sat</td>\n",
              "      <td>1</td>\n",
              "      <td>2</td>\n",
              "    </tr>\n",
              "    <tr>\n",
              "      <th>218</th>\n",
              "      <td>7.74</td>\n",
              "      <td>1.44</td>\n",
              "      <td>0</td>\n",
              "      <td>1</td>\n",
              "      <td>Sat</td>\n",
              "      <td>1</td>\n",
              "      <td>2</td>\n",
              "    </tr>\n",
              "    <tr>\n",
              "      <th>219</th>\n",
              "      <td>30.14</td>\n",
              "      <td>3.09</td>\n",
              "      <td>1</td>\n",
              "      <td>1</td>\n",
              "      <td>Sat</td>\n",
              "      <td>1</td>\n",
              "      <td>4</td>\n",
              "    </tr>\n",
              "    <tr>\n",
              "      <th>220</th>\n",
              "      <td>12.16</td>\n",
              "      <td>2.20</td>\n",
              "      <td>0</td>\n",
              "      <td>1</td>\n",
              "      <td>Fri</td>\n",
              "      <td>0</td>\n",
              "      <td>2</td>\n",
              "    </tr>\n",
              "    <tr>\n",
              "      <th>221</th>\n",
              "      <td>13.42</td>\n",
              "      <td>3.48</td>\n",
              "      <td>1</td>\n",
              "      <td>1</td>\n",
              "      <td>Fri</td>\n",
              "      <td>0</td>\n",
              "      <td>2</td>\n",
              "    </tr>\n",
              "    <tr>\n",
              "      <th>222</th>\n",
              "      <td>8.58</td>\n",
              "      <td>1.92</td>\n",
              "      <td>0</td>\n",
              "      <td>1</td>\n",
              "      <td>Fri</td>\n",
              "      <td>0</td>\n",
              "      <td>1</td>\n",
              "    </tr>\n",
              "    <tr>\n",
              "      <th>223</th>\n",
              "      <td>15.98</td>\n",
              "      <td>3.00</td>\n",
              "      <td>1</td>\n",
              "      <td>0</td>\n",
              "      <td>Fri</td>\n",
              "      <td>0</td>\n",
              "      <td>3</td>\n",
              "    </tr>\n",
              "    <tr>\n",
              "      <th>224</th>\n",
              "      <td>13.42</td>\n",
              "      <td>1.58</td>\n",
              "      <td>0</td>\n",
              "      <td>1</td>\n",
              "      <td>Fri</td>\n",
              "      <td>0</td>\n",
              "      <td>2</td>\n",
              "    </tr>\n",
              "    <tr>\n",
              "      <th>225</th>\n",
              "      <td>16.27</td>\n",
              "      <td>2.50</td>\n",
              "      <td>1</td>\n",
              "      <td>1</td>\n",
              "      <td>Fri</td>\n",
              "      <td>0</td>\n",
              "      <td>2</td>\n",
              "    </tr>\n",
              "    <tr>\n",
              "      <th>226</th>\n",
              "      <td>10.09</td>\n",
              "      <td>2.00</td>\n",
              "      <td>1</td>\n",
              "      <td>1</td>\n",
              "      <td>Fri</td>\n",
              "      <td>0</td>\n",
              "      <td>2</td>\n",
              "    </tr>\n",
              "    <tr>\n",
              "      <th>227</th>\n",
              "      <td>20.45</td>\n",
              "      <td>3.00</td>\n",
              "      <td>0</td>\n",
              "      <td>0</td>\n",
              "      <td>Sat</td>\n",
              "      <td>1</td>\n",
              "      <td>4</td>\n",
              "    </tr>\n",
              "    <tr>\n",
              "      <th>228</th>\n",
              "      <td>13.28</td>\n",
              "      <td>2.72</td>\n",
              "      <td>0</td>\n",
              "      <td>0</td>\n",
              "      <td>Sat</td>\n",
              "      <td>1</td>\n",
              "      <td>2</td>\n",
              "    </tr>\n",
              "    <tr>\n",
              "      <th>229</th>\n",
              "      <td>22.12</td>\n",
              "      <td>2.88</td>\n",
              "      <td>1</td>\n",
              "      <td>1</td>\n",
              "      <td>Sat</td>\n",
              "      <td>1</td>\n",
              "      <td>2</td>\n",
              "    </tr>\n",
              "    <tr>\n",
              "      <th>230</th>\n",
              "      <td>24.01</td>\n",
              "      <td>2.00</td>\n",
              "      <td>0</td>\n",
              "      <td>1</td>\n",
              "      <td>Sat</td>\n",
              "      <td>1</td>\n",
              "      <td>4</td>\n",
              "    </tr>\n",
              "    <tr>\n",
              "      <th>231</th>\n",
              "      <td>15.69</td>\n",
              "      <td>3.00</td>\n",
              "      <td>0</td>\n",
              "      <td>1</td>\n",
              "      <td>Sat</td>\n",
              "      <td>1</td>\n",
              "      <td>3</td>\n",
              "    </tr>\n",
              "    <tr>\n",
              "      <th>232</th>\n",
              "      <td>11.61</td>\n",
              "      <td>3.39</td>\n",
              "      <td>0</td>\n",
              "      <td>0</td>\n",
              "      <td>Sat</td>\n",
              "      <td>1</td>\n",
              "      <td>2</td>\n",
              "    </tr>\n",
              "    <tr>\n",
              "      <th>233</th>\n",
              "      <td>10.77</td>\n",
              "      <td>1.47</td>\n",
              "      <td>0</td>\n",
              "      <td>0</td>\n",
              "      <td>Sat</td>\n",
              "      <td>1</td>\n",
              "      <td>2</td>\n",
              "    </tr>\n",
              "    <tr>\n",
              "      <th>234</th>\n",
              "      <td>15.53</td>\n",
              "      <td>3.00</td>\n",
              "      <td>0</td>\n",
              "      <td>1</td>\n",
              "      <td>Sat</td>\n",
              "      <td>1</td>\n",
              "      <td>2</td>\n",
              "    </tr>\n",
              "    <tr>\n",
              "      <th>235</th>\n",
              "      <td>10.07</td>\n",
              "      <td>1.25</td>\n",
              "      <td>0</td>\n",
              "      <td>0</td>\n",
              "      <td>Sat</td>\n",
              "      <td>1</td>\n",
              "      <td>2</td>\n",
              "    </tr>\n",
              "    <tr>\n",
              "      <th>236</th>\n",
              "      <td>12.60</td>\n",
              "      <td>1.00</td>\n",
              "      <td>0</td>\n",
              "      <td>1</td>\n",
              "      <td>Sat</td>\n",
              "      <td>1</td>\n",
              "      <td>2</td>\n",
              "    </tr>\n",
              "    <tr>\n",
              "      <th>237</th>\n",
              "      <td>32.83</td>\n",
              "      <td>1.17</td>\n",
              "      <td>0</td>\n",
              "      <td>1</td>\n",
              "      <td>Sat</td>\n",
              "      <td>1</td>\n",
              "      <td>2</td>\n",
              "    </tr>\n",
              "    <tr>\n",
              "      <th>238</th>\n",
              "      <td>35.83</td>\n",
              "      <td>4.67</td>\n",
              "      <td>1</td>\n",
              "      <td>0</td>\n",
              "      <td>Sat</td>\n",
              "      <td>1</td>\n",
              "      <td>3</td>\n",
              "    </tr>\n",
              "    <tr>\n",
              "      <th>239</th>\n",
              "      <td>29.03</td>\n",
              "      <td>5.92</td>\n",
              "      <td>0</td>\n",
              "      <td>0</td>\n",
              "      <td>Sat</td>\n",
              "      <td>1</td>\n",
              "      <td>3</td>\n",
              "    </tr>\n",
              "    <tr>\n",
              "      <th>240</th>\n",
              "      <td>27.18</td>\n",
              "      <td>2.00</td>\n",
              "      <td>1</td>\n",
              "      <td>1</td>\n",
              "      <td>Sat</td>\n",
              "      <td>1</td>\n",
              "      <td>2</td>\n",
              "    </tr>\n",
              "    <tr>\n",
              "      <th>241</th>\n",
              "      <td>22.67</td>\n",
              "      <td>2.00</td>\n",
              "      <td>0</td>\n",
              "      <td>1</td>\n",
              "      <td>Sat</td>\n",
              "      <td>1</td>\n",
              "      <td>2</td>\n",
              "    </tr>\n",
              "    <tr>\n",
              "      <th>242</th>\n",
              "      <td>17.82</td>\n",
              "      <td>1.75</td>\n",
              "      <td>0</td>\n",
              "      <td>0</td>\n",
              "      <td>Sat</td>\n",
              "      <td>1</td>\n",
              "      <td>2</td>\n",
              "    </tr>\n",
              "    <tr>\n",
              "      <th>243</th>\n",
              "      <td>18.78</td>\n",
              "      <td>3.00</td>\n",
              "      <td>1</td>\n",
              "      <td>0</td>\n",
              "      <td>Thur</td>\n",
              "      <td>1</td>\n",
              "      <td>2</td>\n",
              "    </tr>\n",
              "  </tbody>\n",
              "</table>\n",
              "<p>244 rows × 7 columns</p>\n",
              "</div>"
            ],
            "text/plain": [
              "     total_bill   tip  sex  smoker   day  time  size\n",
              "0         16.99  1.01    1       0   Sun     1     2\n",
              "1         10.34  1.66    0       0   Sun     1     3\n",
              "2         21.01  3.50    0       0   Sun     1     3\n",
              "3         23.68  3.31    0       0   Sun     1     2\n",
              "4         24.59  3.61    1       0   Sun     1     4\n",
              "5         25.29  4.71    0       0   Sun     1     4\n",
              "6          8.77  2.00    0       0   Sun     1     2\n",
              "7         26.88  3.12    0       0   Sun     1     4\n",
              "8         15.04  1.96    0       0   Sun     1     2\n",
              "9         14.78  3.23    0       0   Sun     1     2\n",
              "10        10.27  1.71    0       0   Sun     1     2\n",
              "11        35.26  5.00    1       0   Sun     1     4\n",
              "12        15.42  1.57    0       0   Sun     1     2\n",
              "13        18.43  3.00    0       0   Sun     1     4\n",
              "14        14.83  3.02    1       0   Sun     1     2\n",
              "15        21.58  3.92    0       0   Sun     1     2\n",
              "16        10.33  1.67    1       0   Sun     1     3\n",
              "17        16.29  3.71    0       0   Sun     1     3\n",
              "18        16.97  3.50    1       0   Sun     1     3\n",
              "19        20.65  3.35    0       0   Sat     1     3\n",
              "20        17.92  4.08    0       0   Sat     1     2\n",
              "21        20.29  2.75    1       0   Sat     1     2\n",
              "22        15.77  2.23    1       0   Sat     1     2\n",
              "23        39.42  7.58    0       0   Sat     1     4\n",
              "24        19.82  3.18    0       0   Sat     1     2\n",
              "25        17.81  2.34    0       0   Sat     1     4\n",
              "26        13.37  2.00    0       0   Sat     1     2\n",
              "27        12.69  2.00    0       0   Sat     1     2\n",
              "28        21.70  4.30    0       0   Sat     1     2\n",
              "29        19.65  3.00    1       0   Sat     1     2\n",
              "..          ...   ...  ...     ...   ...   ...   ...\n",
              "214       28.17  6.50    1       1   Sat     1     3\n",
              "215       12.90  1.10    1       1   Sat     1     2\n",
              "216       28.15  3.00    0       1   Sat     1     5\n",
              "217       11.59  1.50    0       1   Sat     1     2\n",
              "218        7.74  1.44    0       1   Sat     1     2\n",
              "219       30.14  3.09    1       1   Sat     1     4\n",
              "220       12.16  2.20    0       1   Fri     0     2\n",
              "221       13.42  3.48    1       1   Fri     0     2\n",
              "222        8.58  1.92    0       1   Fri     0     1\n",
              "223       15.98  3.00    1       0   Fri     0     3\n",
              "224       13.42  1.58    0       1   Fri     0     2\n",
              "225       16.27  2.50    1       1   Fri     0     2\n",
              "226       10.09  2.00    1       1   Fri     0     2\n",
              "227       20.45  3.00    0       0   Sat     1     4\n",
              "228       13.28  2.72    0       0   Sat     1     2\n",
              "229       22.12  2.88    1       1   Sat     1     2\n",
              "230       24.01  2.00    0       1   Sat     1     4\n",
              "231       15.69  3.00    0       1   Sat     1     3\n",
              "232       11.61  3.39    0       0   Sat     1     2\n",
              "233       10.77  1.47    0       0   Sat     1     2\n",
              "234       15.53  3.00    0       1   Sat     1     2\n",
              "235       10.07  1.25    0       0   Sat     1     2\n",
              "236       12.60  1.00    0       1   Sat     1     2\n",
              "237       32.83  1.17    0       1   Sat     1     2\n",
              "238       35.83  4.67    1       0   Sat     1     3\n",
              "239       29.03  5.92    0       0   Sat     1     3\n",
              "240       27.18  2.00    1       1   Sat     1     2\n",
              "241       22.67  2.00    0       1   Sat     1     2\n",
              "242       17.82  1.75    0       0   Sat     1     2\n",
              "243       18.78  3.00    1       0  Thur     1     2\n",
              "\n",
              "[244 rows x 7 columns]"
            ]
          },
          "metadata": {
            "tags": []
          },
          "execution_count": 107
        }
      ]
    },
    {
      "metadata": {
        "id": "yTkKFuIkpT9b",
        "colab_type": "text"
      },
      "cell_type": "markdown",
      "source": [
        "#### Handle categorical variable\n",
        "\n",
        "The values in day column are:  Thu, Fri, Sat, Sun we can convert it to 1,2,3,4 but to get a good model, it is better to use boolean variables. We can achieve it by converting the column into 4 columns – one for each day with 0 or 1 as values. In pandas library it can be done using get_dummies."
      ]
    },
    {
      "metadata": {
        "id": "QB1dYE4CpWxp",
        "colab_type": "code",
        "outputId": "90337510-b6ad-4ece-8cf4-be16244e60db",
        "colab": {
          "base_uri": "https://localhost:8080/",
          "height": 68
        }
      },
      "cell_type": "code",
      "source": [
        "input_data_final = pd.get_dummies(input_data, columns=['day'], drop_first=True)\n",
        "input_data_final.head()\n",
        "input_data_final.columns"
      ],
      "execution_count": 0,
      "outputs": [
        {
          "output_type": "execute_result",
          "data": {
            "text/plain": [
              "Index(['total_bill', 'tip', 'sex', 'smoker', 'time', 'size', 'day_Fri',\n",
              "       'day_Sat', 'day_Sun'],\n",
              "      dtype='object')"
            ]
          },
          "metadata": {
            "tags": []
          },
          "execution_count": 108
        }
      ]
    },
    {
      "metadata": {
        "id": "N7oHVYQdqPWL",
        "colab_type": "text"
      },
      "cell_type": "markdown",
      "source": [
        "### Step 5: Building our Machine Learning model\n",
        "\n",
        "Now we are going to build our model with Linear Regression Model. First we create a list of features as X and predicted as Y:"
      ]
    },
    {
      "metadata": {
        "id": "ncg3GGSPqRHy",
        "colab_type": "code",
        "colab": {}
      },
      "cell_type": "code",
      "source": [
        "y = input_data_final['tip']\n",
        "X = input_data_final[['sex', 'smoker', 'time', 'size', 'day_Fri', 'day_Sat', 'day_Sun']]"
      ],
      "execution_count": 0,
      "outputs": []
    },
    {
      "metadata": {
        "id": "RC4Usqfwr3K1",
        "colab_type": "text"
      },
      "cell_type": "markdown",
      "source": [
        "Now lets split the data into test and train so we can test our model before we use it."
      ]
    },
    {
      "metadata": {
        "id": "lo_jJl1Er4yv",
        "colab_type": "code",
        "outputId": "207f431a-5c4e-4a7d-c7cc-448e98dc2541",
        "colab": {
          "base_uri": "https://localhost:8080/",
          "height": 34
        }
      },
      "cell_type": "code",
      "source": [
        "from sklearn.model_selection import train_test_split\n",
        "X_train, X_test, y_train, y_test = train_test_split(X, y, test_size=0.2, random_state=101)\n",
        "print(X_train.shape, X_test.shape)"
      ],
      "execution_count": 0,
      "outputs": [
        {
          "output_type": "stream",
          "text": [
            "(195, 7) (49, 7)\n"
          ],
          "name": "stdout"
        }
      ]
    },
    {
      "metadata": {
        "id": "n-IK-VpqsJiK",
        "colab_type": "text"
      },
      "cell_type": "markdown",
      "source": [
        "Now lets train the model with X_train and y_train:"
      ]
    },
    {
      "metadata": {
        "id": "50W7QLU1sKKf",
        "colab_type": "code",
        "outputId": "bc8ca281-71ac-4863-fc4b-de6be431f395",
        "colab": {
          "base_uri": "https://localhost:8080/",
          "height": 51
        }
      },
      "cell_type": "code",
      "source": [
        "from sklearn.linear_model import LinearRegression\n",
        "\n",
        "model = LinearRegression()\n",
        "model.fit(X_train, y_train)"
      ],
      "execution_count": 0,
      "outputs": [
        {
          "output_type": "execute_result",
          "data": {
            "text/plain": [
              "LinearRegression(copy_X=True, fit_intercept=True, n_jobs=None,\n",
              "         normalize=False)"
            ]
          },
          "metadata": {
            "tags": []
          },
          "execution_count": 111
        }
      ]
    },
    {
      "metadata": {
        "id": "eY6AUXJasV-W",
        "colab_type": "text"
      },
      "cell_type": "markdown",
      "source": [
        "And predict the X_test values:"
      ]
    },
    {
      "metadata": {
        "id": "XU7RYV1SsagE",
        "colab_type": "code",
        "outputId": "dca1a961-33cf-47ef-e576-4936216d116a",
        "colab": {
          "base_uri": "https://localhost:8080/",
          "height": 187
        }
      },
      "cell_type": "code",
      "source": [
        "predictions = model.predict(X_test)\n",
        "predictions"
      ],
      "execution_count": 0,
      "outputs": [
        {
          "output_type": "execute_result",
          "data": {
            "text/plain": [
              "array([2.51326397, 2.57306163, 2.67485656, 3.78234484, 3.11221868,\n",
              "       2.57306163, 3.91331396, 2.71246095, 2.68623036, 2.46832311,\n",
              "       2.50189017, 2.51326397, 2.46832311, 2.71246095, 2.74602802,\n",
              "       2.50189017, 2.68623036, 2.74602802, 2.46832311, 3.17201634,\n",
              "       2.50189017, 2.78145041, 2.74602802, 2.44209252, 2.68623036,\n",
              "       2.57306163, 2.51326397, 2.78145041, 3.80857544, 3.20962073,\n",
              "       3.35635652, 3.41615418, 2.51326397, 5.19376863, 2.68623036,\n",
              "       2.46832311, 3.91331396, 2.51326397, 3.2431878 , 3.80857544,\n",
              "       2.80153749, 3.18339014, 3.2431878 , 4.54987306, 4.02648269,\n",
              "       2.67485656, 2.53949457, 3.8535163 , 2.71246095])"
            ]
          },
          "metadata": {
            "tags": []
          },
          "execution_count": 112
        }
      ]
    },
    {
      "metadata": {
        "id": "bEfbRaFBsmAX",
        "colab_type": "text"
      },
      "cell_type": "markdown",
      "source": [
        "We can look at the predictions and compare it with y_test"
      ]
    },
    {
      "metadata": {
        "id": "HE7WTEU5smnA",
        "colab_type": "code",
        "outputId": "87afb189-786c-4683-e6d0-a7887d0f840e",
        "colab": {
          "base_uri": "https://localhost:8080/",
          "height": 378
        }
      },
      "cell_type": "code",
      "source": [
        "sns.distplot(y_test - predictions)"
      ],
      "execution_count": 0,
      "outputs": [
        {
          "output_type": "execute_result",
          "data": {
            "text/plain": [
              "<matplotlib.axes._subplots.AxesSubplot at 0x7f03378bdb38>"
            ]
          },
          "metadata": {
            "tags": []
          },
          "execution_count": 88
        },
        {
          "output_type": "display_data",
          "data": {
            "image/png": "[encoded data removed]",
            "text/plain": [
              "<matplotlib.figure.Figure at 0x7f033789dc18>"
            ]
          },
          "metadata": {
            "tags": []
          }
        }
      ]
    },
    {
      "metadata": {
        "id": "rAE9O4dmtK23",
        "colab_type": "text"
      },
      "cell_type": "markdown",
      "source": [
        "We can see from the graph that most of the times the predictions were correct (difference = 0).\n",
        "\n",
        "If we want to predict new value for example.\n",
        "\n",
        "We have a 3 size table smoker male on friday lunch:\n"
      ]
    },
    {
      "metadata": {
        "id": "wHIguBsbsyiW",
        "colab_type": "code",
        "outputId": "37de44b0-1988-4d68-e877-de5c33e91512",
        "colab": {
          "base_uri": "https://localhost:8080/",
          "height": 34
        }
      },
      "cell_type": "code",
      "source": [
        "# [['sex', 'smoker', 'time', 'size', 'day_Fri', 'day_Sat', 'day_Sun']]\n",
        "vals = np.array([0, 1, 0, 3, 1, 0, 0]).reshape(1, -1)\n",
        "vals\n",
        "model.predict(vals)"
      ],
      "execution_count": 0,
      "outputs": [
        {
          "output_type": "execute_result",
          "data": {
            "text/plain": [
              "array([3.1183622])"
            ]
          },
          "metadata": {
            "tags": []
          },
          "execution_count": 118
        }
      ]
    },
    {
      "metadata": {
        "id": "6I54XUliK2e5",
        "colab_type": "code",
        "colab": {}
      },
      "cell_type": "code",
      "source": [
        ""
      ],
      "execution_count": 0,
      "outputs": []
    }
  ]
}